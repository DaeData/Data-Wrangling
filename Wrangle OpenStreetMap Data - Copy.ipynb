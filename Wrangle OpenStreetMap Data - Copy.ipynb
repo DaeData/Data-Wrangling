{
 "cells": [
  {
   "cell_type": "markdown",
   "metadata": {},
   "source": [
    "# OpenStreetMap Project - Data  Wrangling with SQL"
   ]
  },
  {
   "cell_type": "markdown",
   "metadata": {},
   "source": [
    "[Openstreet map](https://wiki.openstreetmap.org/wiki/Main_Page) is a free world map where anyone can contribute geographic data.  Because anyone can contribute it stands to reason that the information contained may not always be accurate. "
   ]
  },
  {
   "cell_type": "markdown",
   "metadata": {},
   "source": [
    "The data set used for this project is located at https://www.openstreetmap.org/export#map=12/32.7831/-96.8067 \n",
    "\n",
    "I picked this location because it is of interest to me.  I recently relocated to the Dallas metro area and getting around and discovering things in a new city can be challenging.  We will explore the accuracy of the information in this area and correct crucial data."
   ]
  },
  {
   "cell_type": "markdown",
   "metadata": {},
   "source": [
    "## Overview of the Data"
   ]
  },
  {
   "cell_type": "raw",
   "metadata": {},
   "source": [
    "The dataset chosen is a rather large one:\n",
    "Dallas.osm - 692MB\n",
    "Dallas_metro.db - 392MB\n",
    "Nodes.csv - 291MB\n",
    "Nodes_tags.csv - 1.26MB\n",
    "Ways.csv - 23.0MB\n",
    "Ways_Nodes.csv - 85.5MB\n",
    "Ways_tags.csv - 37.2MB"
   ]
  },
  {
   "cell_type": "markdown",
   "metadata": {},
   "source": [
    "When taking a look at the tags from Dallas.osm we can see there are over 3 million node and ways datapoints.\n",
    "\n",
    "### Mapparser.py"
   ]
  },
  {
   "cell_type": "raw",
   "metadata": {},
   "source": [
    "{'bounds': 1,\n",
    " 'member': 28666,\n",
    " 'meta': 1,\n",
    " 'nd': 3594762,\n",
    " 'node': 3200502,\n",
    " 'note': 1,\n",
    " 'osm': 1,\n",
    " 'relation': 1602,\n",
    " 'tag': 1125912,\n",
    " 'way': 339226}"
   ]
  },
  {
   "cell_type": "markdown",
   "metadata": {},
   "source": [
    "So we started by looking at the elements and categorizing them according to data patterns.  It is rather surpising to see that there are no problem characters associate with the data.\n",
    "### Tags.py"
   ]
  },
  {
   "cell_type": "raw",
   "metadata": {},
   "source": [
    "{'lower': 483367, 'lower_colon': 633552, 'other': 8993, 'problemchars': 0}"
   ]
  },
  {
   "cell_type": "markdown",
   "metadata": {},
   "source": [
    "So next we took a look at unique user contributions.  We can see that 841 unique users contributed to the dataset.\n",
    "\n",
    "### Users.py"
   ]
  },
  {
   "cell_type": "raw",
   "metadata": {},
   "source": [
    "841"
   ]
  },
  {
   "cell_type": "markdown",
   "metadata": {},
   "source": [
    "With a little bit better view of the data we start but taking a look at what can be one of the most important areas of the data, streets.  It won't matter what cool things we find to do in the city if we can't figure out how to get there.  As we can see there are numerous problems with the data.\n",
    "### Audit.py"
   ]
  },
  {
   "cell_type": "raw",
   "metadata": {},
   "source": [
    "{'Verdes': set(['Palos Verdes']), 'Rd': set(['E Grauwyler Rd', 'S. Hampton Rd', 'Interstate 30 Frontage Rd', 'I-20 Frontage Rd', 'Midway Rd', 'E Overton Rd', 'Stone Canyon Rd', 'N Support Rd', 'US-175 Frontage Rd', 'Hall Rd', 'Cedar Springs Rd', 'Garland Rd']), 'Elias': set(['Via Jesse Elias']), 'Gate': set(['Vista Gate']), 'Inwood': set(['Inwood']), 'Deseo': set(['Deseo']), '20': set(['East Interstate Highway 20', 'West I 20', 'I 20', 'West Interstate 20', 'Interstate Highway 20']), 'Paraiso': set(['Paseo Paraiso']), 'Verde': set(['Verde']), 'Jacob': set(['Via James Jacob']), 'Redondo': set(['Redondo']), '408': set(['Spur 408']), 'Cima': set(['La Cima']), 'Clemente': set(['San Clemente']), 'D': set(['Avenue D']), 'H': set(['Avenue H']), 'L': set(['Avenue L']), 'Nile': set(['Nile']), 'Pkwy': set(['International Pkwy']), '12': set(['South Loop 12', 'North Loop 12', 'Loop 12']), 'Wandt': set(['Wandt']), 'Kearney': set(['E Kearney']), 'Wren': set(['Wren']), 'Rio': set(['Camino Rio']), 'Halsey': set(['Halsey']), 'Chase': set(['Slick Rock Chase']), '56th': set(['56th']), 'Fontana': set(['La Fontana']), 'West': set(['Plymouth Drive West', 'Lago Vista West', 'East Technology Boulevard;Technology Boulevard West', 'Story Road West']), 'Expy': set(['N Central Expy']), 'Lago': set(['Camino Lago']), 'Dr.': set(['Rugged Dr.']), '80': set(['West US Highway 80']), 'Rd.': set(['Hillcrest Rd.']), '360': set(['North State Highway 360', 'State Highway 360']), 'C': set(['Avenue C']), 'Central': set(['Empire Central']), 'G': set(['Avenue G']), '300': set(['Forest Central Drive, Suite 300']), 'K': set(['East Avenue K']), 'Kjo': set(['7815 McCallum Blvd 14203 Dallas TX 75252 Kjo']), '306': set(['W Illinois Ave #306']), 'Antonio': set(['Via San Antonio']), '102': set(['North Market Street #102']), 'Millmar': set(['Millmar']), '30': set(['West Interstate 30', 'Interstate 30']), 'Catherine': set(['Via Saint Catherine']), 'Lynnacre': set(['Lynnacre']), 'Avenida': set(['Via Avenida']), 'road': set(['Innwood road']), 'St.': set(['Dyer St.']), '175': set(['North Highway 175']), 'Thrush': set(['Wood Thrush']), 'Eduardo': set(['Via San Eduardo']), 'Downs': set(['Churchill Downs']), 'Tranquilo': set(['Tranquilo']), 'Vernon': set(['Mt Vernon']), 'Sheree': set(['Sheree']), 'Willowood': set(['Willowood']), 'B': set(['Avenue B', 'West Main Street #B']), '635': set(['N Central Expressway Ste 635', 'West Interstate 635']), 'F': set(['Avenue F']), 'J': set(['Avenue J']), 'St': set(['Farrington St', 'Knox St', 'Live Oak St']), '75062': set(['75062']), 'Mound': set(['Pleasant Mound']), '161': set(['State Highway 161', 'TX 161', 'South Highway 161']), 'Sonoma': set(['Sonoma']), 'Terraza': set(['Terraza']), '2010': set(['North Saint Paul Street, Suite 2010']), 'Ave': set(['Lemmon Ave', 'Henderson Ave', 'Oak Lawn Ave', 'Greenville Ave']), 'Gillette': set(['Gillette']), 'Ln': set(['Valley View Ln', 'Livingston Ln']), 'Jolla': set(['La Jolla']), 'Camilla': set(['Camilla']), 'blvd': set(['trinity blvd']), 'East': set(['East Technology Boulevard;Technology Boulevard East', 'Reunion Boulevard East', 'Road to Six Flags East', 'Griffin Street East', 'Technology Boulevard East', 'Us Highway 80 East']), 'LN': set(['CARUTH HAVEN LN']), 'Estrella': set(['Via Estrella']), 'Stonecourt': set(['Stonecourt']), 'Glenwood': set(['Glenwood']), 'Tierra': set(['Nueva Tierra']), 'Dr': set(['W Ledbetter Dr', 'Lone Star Dr', 'W Pioneer Dr']), 'A': set(['Avenue A']), '200': set(['Webb Chapel Rd 200']), 'Pierce': set(['Jo Pierce']), '202': set(['Canton Street, Suite 202']), 'E': set(['Las Colinas Blvd E', 'Avenue E', 'Reunion Blvd E']), 'I-30': set(['West I-30', 'East I-30']), 'I': set(['Avenue I']), 'Av': set(['Lemmon Av']), 'Fernando': set(['San Fernando']), 'Barcelona': set(['Barcelona']), '1150': set(['North Pearl Street, Suite 1150']), 'Q': set(['Avenue Q']), 'Cardiff': set(['Cardiff']), 'Saba': set(['North San Saba', 'South San Saba']), 'South': set(['South Parkway Boulevard South']), 'Birchbrook': set(['Birchbrook']), '356': set(['E State Highway 356']), 'Haskell': set(['Haskell']), 'Hunterwood': set(['Hunterwood']), 'Blvd': set(['North Macarthur Blvd'])})"
   ]
  },
  {
   "cell_type": "markdown",
   "metadata": {},
   "source": [
    "Because this is a very large set of possible problems we need to approach this carefully.  We discovered that Dallas metro streets can be particularly unique.  So we start with the clearer entries.  \n",
    "\n",
    "The entries for Avenue[A-Q] are correct and will not be altered. Those ending with abbreviations like Rd. or Blvd. are also straight-forward to clean so we will add those to the mapping.\n",
    "\n",
    "Now we will look at the less clear entries.\n",
    "One entry that is unique to the area is Via Estrella.  This is accurate and is not abbreviated and the order is correct, as are all associated listings. https://goo.gl/maps/ZvZEQu72Nos. Also in this area are a number of streets that do not have a suffix associated with them.  Those have been ignored.\n",
    "\n",
    "Nile is another oddity, and here in Dallas it can cause a barrage of bug repellent to be aimed in your direction.  In this case, Nile should be Nile Drive.\n",
    "\n",
    "Pleasant Mound is a cemetary in Dallas. The entry was correct to reflect its location at South Buckner Boulevard."
   ]
  },
  {
   "cell_type": "markdown",
   "metadata": {},
   "source": [
    "Of the remaining 20 entries I was unable to determine the correct suffix associated with the following 8 entries:\n",
    "\n",
    "- Halsey\n",
    "- Slick Rock Chase\n",
    "- Millmar\n",
    "- Lynnacre\n",
    "- Wood Thrush \n",
    "- Mt Vernon \n",
    "- Stonecourt\n",
    "- Hunterwood\n",
    "\n",
    "These entries are unique in that they are within a short distance of each other and are either correct in one city or have a suffix in the other city.\n",
    "\n",
    "### update_street_name.py\n",
    "All corrections were added to mappings.  This decision was made as it was more straight-forward to correct the data properly than by approaching it with additional scripting."
   ]
  },
  {
   "cell_type": "markdown",
   "metadata": {},
   "source": [
    "### data_wrangling_schema.sql\n",
    "Creating the database with data_wrangling_schema.sql resulted in an extra entry in each table. Also an error of datatype mismatch returned for the nodes and ways imports. I was only able to create the tables when 'PRIMARY KEY' was removed."
   ]
  },
  {
   "cell_type": "raw",
   "metadata": {},
   "source": [
    "CREATE TABLE nodes (\n",
    "    id INTEGER NOT NULL,\n",
    "    lat REAL,\n",
    "    lon REAL,\n",
    "    user TEXT,\n",
    "    uid INTEGER,\n",
    "    version INTEGER,\n",
    "    changeset INTEGER,\n",
    "    timestamp TEXT\n",
    ");\n",
    "CREATE TABLE nodes_tags (\n",
    "    id INTEGER,\n",
    "    key TEXT,\n",
    "    value TEXT,\n",
    "    type TEXT,\n",
    "    FOREIGN KEY (id) REFERENCES nodes(id)\n",
    ");\n",
    "CREATE TABLE ways (\n",
    "    id INTEGER NOT NULL,\n",
    "    user TEXT,\n",
    "    uid INTEGER,\n",
    "    version TEXT,\n",
    "    changeset INTEGER,\n",
    "    timestamp TEXT\n",
    ");\n",
    "CREATE TABLE ways_tags (\n",
    "    id INTEGER NOT NULL,\n",
    "    key TEXT NOT NULL,\n",
    "    value TEXT NOT NULL,\n",
    "    type TEXT,\n",
    "    FOREIGN KEY (id) REFERENCES ways(id)\n",
    ");\n",
    "CREATE TABLE ways_nodes (\n",
    "    id INTEGER NOT NULL,\n",
    "    node_id INTEGER NOT NULL,\n",
    "    position INTEGER NOT NULL,\n",
    "    FOREIGN KEY (id) REFERENCES ways(id),\n",
    "    FOREIGN KEY (node_id) REFERENCES nodes(id)\n",
    ");"
   ]
  },
  {
   "cell_type": "raw",
   "metadata": {},
   "source": [
    "SQLite version 3.9.2 2015-11-02 18:31:45\n",
    "Enter \".help\" for usage hints.\n",
    "sqlite> .read data_wrangling_schema.sql\n",
    "sqlite> .mode csv\n",
    "sqlite> .import nodes.csv nodes\n",
    "sqlite> .import nodes_tags.csv nodes_tags\n",
    "sqlite> .import ways.csv ways\n",
    "sqlite> .import ways_tags.csv ways_tags\n",
    "sqlite> .import ways_nodes.csv ways_nodes"
   ]
  },
  {
   "cell_type": "raw",
   "metadata": {},
   "source": [
    "sqlite> select count(*) from nodes;\n",
    "3200503\n",
    "sqlite> select count(*) from ways;\n",
    "339227\n",
    "sqlite>"
   ]
  },
  {
   "cell_type": "markdown",
   "metadata": {},
   "source": [
    "### db_create.py\n",
    "When we created the database with the python script it was successful.  When the database was created with the python script db_create.py the queries returned the expected result."
   ]
  },
  {
   "cell_type": "raw",
   "metadata": {},
   "source": [
    "SQLite version 3.9.2 2015-11-02 18:31:45\n",
    "Enter \".help\" for usage hints.\n",
    "Connected to a transient in-memory database.\n",
    "Use \".open FILENAME\" to reopen on a persistent database.\n",
    "sqlite> .open dallas_metro.db\n",
    "sqlite> .schema\n",
    "CREATE TABLE nodes (id INTEGER PRIMARY KEY NOT NULL, lat REAL, lon REAL, user TEXT, uid INTEGER, version TEXT, changeset INTEGER, timestamp DATE);\n",
    "CREATE TABLE ways (id INTEGER PRIMARY KEY NOT NULL, user TEXT, uid INTEGER, version TEXT, changeset INTEGER, timestamp DATE);\n",
    "CREATE TABLE nodes_tags (id INTEGER, key TEXT, value TEXT, type TEXT, FOREIGN KEY (id) REFERENCES nodes(id));\n",
    "CREATE TABLE ways_tags (id INTEGER NOT NULL,key TEXT NOT NULL,value TEXT NOT NULL,type TEXT,FOREIGN KEY (id) REFERENCES ways(id));\n",
    "CREATE TABLE ways_nodes (id INTEGER NOT NULL,node_id INTEGER NOT NULL, position INTEGER NOT NULL,FOREIGN KEY (id) REFERENCES ways(id),FOREIGN KEY (node_id) REFERENCES nodes(id));\n",
    "sqlite> .tables\n",
    "nodes       nodes_tags  ways        ways_nodes  ways_tags\n",
    "sqlite> select count(*) from nodes;\n",
    "3200502\n",
    "sqlite> select count(*) from ways;\n",
    "339226\n",
    "sqlite>"
   ]
  },
  {
   "cell_type": "markdown",
   "metadata": {},
   "source": [
    "### Top 10 data creators\n",
    "We first take a look at which user made the most contributions to the dataset.  Here we can see that **Andrew Matheny** contributed the most by a very large margin.  It is rather interesting that the bot was behind him by a margin of **4-to-1**.  "
   ]
  },
  {
   "cell_type": "raw",
   "metadata": {},
   "source": [
    "sqlite> select a.user, count(*) as total from (select user from nodes union all select user from ways) a group by a.user order by total desc limit 10;\n",
    "Andrew Matheny_import|2768934\n",
    "Andrew Matheny|169403\n",
    "woodpeck_fixbot|153431\n",
    "Stephen214|61608\n",
    "fmmute|24731\n",
    "brianboru|20865\n",
    "Zachy_P|18399\n",
    "dwh1985|16801\n",
    "AgentBlue|15905\n",
    "Mara|14914\n",
    "sqlite>"
   ]
  },
  {
   "cell_type": "markdown",
   "metadata": {},
   "source": [
    "### Dallas Metro top 5\n",
    "To give us a sense of the area we take a look at the top 5 cities in this dataset.  Dallas has grown exponentially since I arrived so it is no surprise to see that this portion of the metro is overlapping many cities."
   ]
  },
  {
   "cell_type": "raw",
   "metadata": {},
   "source": [
    "sqlite> select city.value, count(*) as total from (select * from nodes_tags union all select * from ways_tags) city where city.key='city' group by city.value order by total desc limit 5;\n",
    "Dallas|792\n",
    "Grand Prairie|248\n",
    "Irving|165\n",
    "Garland|114\n",
    "Mesquite|66\n",
    "sqlite>"
   ]
  },
  {
   "cell_type": "markdown",
   "metadata": {},
   "source": [
    "### It's all about those Amenities\n",
    "Then we took a look at what amenities the area offers.  This being Texas, no one should be surprised that religion has the most entries.  "
   ]
  },
  {
   "cell_type": "raw",
   "metadata": {},
   "source": [
    "sqlite> select value, count(*) as total from nodes_tags where key='amenity' group by value order by total desc limit 10;\n",
    "place_of_worship|917\n",
    "restaurant|246\n",
    "fast_food|162\n",
    "school|103\n",
    "cafe|52\n",
    "fuel|44\n",
    "fire_station|40\n",
    "post_box|39\n",
    "toilets|28\n",
    "parking|24\n",
    "sqlite>"
   ]
  },
  {
   "cell_type": "markdown",
   "metadata": {},
   "source": [
    "### If religion is your thing\n",
    "When we take a closer look we can see that the majority of entries are categorized as christian."
   ]
  },
  {
   "cell_type": "raw",
   "metadata": {},
   "source": [
    "sqlite> select nodes_tags.value, count(*) as total from nodes_tags join(select distinct(id) from nodes_tags where value='place_of_worship') w on nodes_tags.id=w.id where nodes_tags.key='religion' group by nodes_tags.value order by total desc limit 1;\n",
    "christian|883\n",
    "sqlite>"
   ]
  },
  {
   "cell_type": "markdown",
   "metadata": {},
   "source": [
    "Out of curiosity we take an even deeper look to see all entries.  "
   ]
  },
  {
   "cell_type": "raw",
   "metadata": {},
   "source": [
    "sqlite> select nodes_tags.value, count(*) as total from nodes_tags join(select distinct(id) from nodes_tags where value='place_of_worship') w on nodes_tags.id=w.id where nodes_tags.key='religion' group by nodes_tags.value order by total desc;\n",
    "christian|883\n",
    "bahai|2\n",
    "muslim|2\n",
    "buddhist|1\n",
    "hindu|1\n",
    "jewish|1\n",
    "scientologist|1\n",
    "unitarian_universalist|1\n",
    "sqlite>"
   ]
  },
  {
   "cell_type": "markdown",
   "metadata": {},
   "source": [
    "### Park it!\n",
    "We then take a wider look at amenities and see that parking is a big one.  A common problem in any major retro is finding and place to park and Dallas is noexception.  Food overall is a close second.  Personally, food and coffee are my favorite topics."
   ]
  },
  {
   "cell_type": "raw",
   "metadata": {},
   "source": [
    "sqlite> select value, count(*) as total from ways_tags where key='amenity' group by value order by total desc limit 10;\n",
    "parking|1657\n",
    "school|444\n",
    "restaurant|392\n",
    "fast_food|381\n",
    "fuel|289\n",
    "bank|145\n",
    "place_of_worship|111\n",
    "car_wash|109\n",
    "bar|86\n",
    "post_office|38\n",
    "sqlite>"
   ]
  },
  {
   "cell_type": "markdown",
   "metadata": {},
   "source": [
    "### Food!\n",
    "Speaking of food we dive in and discover that Mexican cuisine followed closely by pizza and american are popular in the metro. One of the benefits of living in a metro area is the diversity of the food."
   ]
  },
  {
   "cell_type": "raw",
   "metadata": {},
   "source": [
    "sqlite> select nodes_tags.value, count(*) as total from nodes_tags join(select distinct(id) from nodes_tags where value='restaurant') r on nodes_tags.id=r.id where nodes_tags.key='cuisine' group by nodes_tags.value order by total desc;\n",
    "mexican|18\n",
    "pizza|14\n",
    "american|12\n",
    "italian|10\n",
    "burger|8\n",
    "chinese|8\n",
    "asian|5\n",
    "regional|5\n",
    "vietnamese|5"
   ]
  },
  {
   "cell_type": "markdown",
   "metadata": {},
   "source": [
    "### More about FOOD!\n",
    "Finally, we take a slightly different view of food to see that Mexican still is top choice and then the lines begin to blur a big in favor of american and regional cuisines.  "
   ]
  },
  {
   "cell_type": "raw",
   "metadata": {},
   "source": [
    "sqlite> select ways_tags.value, count(*) as total from ways_tags join(select distinct(id) from ways_tags where value='restaurant') r on ways_tags.id=r.id where ways_tags.key='cuisine' group by ways_tags.value order by total desc;\n",
    "mexican|9\n",
    "american|6\n",
    "regional|5\n",
    "chicken|4\n",
    "chinese|3\n",
    "seafood|3\n",
    "italian|2\n",
    "japanese|2\n",
    "pizza|2\n",
    "sandwich|2\n",
    "German,_market|1\n",
    "american;breakfast;fried_chicken|1\n",
    "american;burger|1\n",
    "american;steak_house|1\n",
    "barbecue|1\n",
    "breakfast|1\n",
    "burger|1\n",
    "fish|1\n",
    "mexican;Street_Tacos|1\n",
    "texmex|1"
   ]
  },
  {
   "cell_type": "markdown",
   "metadata": {},
   "source": [
    "# Other Thoughts and Ideas\n",
    "\n",
    "As you can see the possibility for discovery is endless the Dallas metro dataset. One possible approach is investigating how restaurants are broken down categorically.  Texas is all about barbeque and it is really surprising that for this area there is only one entry.  It could be that this area doesn't have a good representation of barbeque restaurants but I doubt that.  A quick look at Yelp tells me that this is indeed incorrect.  \n",
    "\n",
    "One of the most popular apps for getting places in the city is Waze.  Google maps is too inconsistent and often does not take into account construction and other possible delay factors that is necessary to get around efficiently.  The potential for better information, quicker with accurate updates is avaiable through OpenStreetMap, but this dataset shows that not many people are aware that it exists.  841 unique contributors in a large portion of the metro is essentially demonstrating almost no one knows.  Perhaps if more people became aware of the rich data points available and knew that they could play an active role in the discovery of this amazing city we could see greater accuracy.  Who knows what treasures may be discovered!"
   ]
  },
  {
   "cell_type": "markdown",
   "metadata": {},
   "source": [
    "### Sources\n",
    "https://gist.github.com/carlward/54ec1c91b62a5f911c42#file-sample_project-md\n",
    "https://www.w3schools.com/sql/default.asp <br>\n",
    "https://www.sqlite.org/docs.html <br>\n",
    "https://discussions.udacity.com/t/are-the-csvs-supposed-to-be-double-spaced/285305 <br>\n",
    "https://discussions.udacity.com/t/nodes-csv-1-insert-failed-datatype-mismatch/239638"
   ]
  }
 ],
 "metadata": {
  "kernelspec": {
   "display_name": "Python 2",
   "language": "python",
   "name": "python2"
  },
  "language_info": {
   "codemirror_mode": {
    "name": "ipython",
    "version": 2
   },
   "file_extension": ".py",
   "mimetype": "text/x-python",
   "name": "python",
   "nbconvert_exporter": "python",
   "pygments_lexer": "ipython2",
   "version": "2.7.14"
  }
 },
 "nbformat": 4,
 "nbformat_minor": 2
}
